{
 "cells": [
  {
   "cell_type": "markdown",
   "metadata": {},
   "source": [
    "# Probability"
   ]
  },
  {
   "cell_type": "markdown",
   "metadata": {},
   "source": [
    "## Reto 1\n",
    "Hay una caja con 10 bolas blancas, 12 bolas rojas y 8 bolas negras. Calcula la probabilidad de:\n",
    "* Sacar una bola blanca.\n",
    "* Sacar una bola blanca en la primera extracción y una bola negra en la segunda extracción sin reemplazar la primera.\n",
    "* Sacar una bola blanca en la primera extracción y una bola negra en la segunda extracción reemplazando la primera.\n",
    "* Sacar 3 bolas y que sean todas de diferentes colores."
   ]
  },
  {
   "cell_type": "code",
   "execution_count": 8,
   "metadata": {},
   "outputs": [
    {
     "name": "stdout",
     "output_type": "stream",
     "text": [
      "Probability of drawing a white ball: 0.3333333333333333\n",
      "Probability of drawing a white ball first and then a black ball without replacement: 0.09195402298850575\n",
      "Probability of drawing a white ball first and then a black ball with replacement: 0.08888888888888888\n",
      "Probability of drawing 3 balls of different colors: 0.23645320197044334\n"
     ]
    }
   ],
   "source": [
    "def probability_white_ball(total_balls, white_balls):\n",
    "    return white_balls / total_balls\n",
    "\n",
    "def probability_white_then_black_no_replacement(total_balls, white_balls, black_balls):\n",
    "    prob_white_first = white_balls / total_balls\n",
    "    prob_black_second = black_balls / (total_balls - 1)\n",
    "    return prob_white_first * prob_black_second\n",
    "\n",
    "def probability_white_then_black_with_replacement(total_balls, white_balls, black_balls):\n",
    "    prob_white_first = white_balls / total_balls\n",
    "    prob_black_second = black_balls / total_balls\n",
    "    return prob_white_first * prob_black_second\n",
    "\n",
    "def probability_three_different_colors(total_balls, white_balls, red_balls, black_balls):\n",
    "    prob_white_first = white_balls / total_balls\n",
    "    prob_red_second = red_balls / (total_balls - 1)\n",
    "    prob_black_third = black_balls / (total_balls - 2)\n",
    "    prob_different_colors = prob_white_first * prob_red_second * prob_black_third\n",
    "    permutations = 6  # 3!\n",
    "    return permutations * prob_different_colors\n",
    "\n",
    "# Total balls\n",
    "total_balls = 10 + 12 + 8\n",
    "\n",
    "print(f\"Probability of drawing a white ball: {probability_white_ball(total_balls, 10)}\")\n",
    "print(f\"Probability of drawing a white ball first and then a black ball without replacement: {probability_white_then_black_no_replacement(total_balls, 10, 8)}\")\n",
    "print(f\"Probability of drawing a white ball first and then a black ball with replacement: {probability_white_then_black_with_replacement(total_balls, 10, 8)}\")\n",
    "print(f\"Probability of drawing 3 balls of different colors: {probability_three_different_colors(total_balls, 10, 12, 8)}\")\n"
   ]
  },
  {
   "cell_type": "markdown",
   "metadata": {},
   "source": [
    "## Reto 2\n",
    "\n",
    "Quieres ir de picnic el sábado. Odias la lluvia y quieres planificar tu fin de semana. Para ayudarte a tomar una decisión, recopilas los siguientes datos sobre los días lluviosos:\n",
    "\n",
    "* El 40% de todos los días están nublados.\n",
    "* Aproximadamente el 50% de los días nublados son lluviosos.\n",
    "* Aproximadamente el 20% de los días no nublados son lluviosos.\n",
    "\n",
    "¿Cuál es la probabilidad de que llueva el próximo sábado?"
   ]
  },
  {
   "cell_type": "code",
   "execution_count": 9,
   "metadata": {},
   "outputs": [
    {
     "name": "stdout",
     "output_type": "stream",
     "text": [
      "Probability of rain next Saturday: 0.32\n"
     ]
    }
   ],
   "source": [
    "def probability_rain(P_cloudy, P_rain_cloudy, P_rain_not_cloudy):\n",
    "    P_not_cloudy = 1 - P_cloudy\n",
    "    return P_rain_cloudy * P_cloudy + P_rain_not_cloudy * P_not_cloudy\n",
    "\n",
    "P_cloudy = 0.4\n",
    "P_rain_cloudy = 0.5\n",
    "P_rain_not_cloudy = 0.2\n",
    "\n",
    "print(f\"Probability of rain next Saturday: {probability_rain(P_cloudy, P_rain_cloudy, P_rain_not_cloudy)}\")\n"
   ]
  },
  {
   "cell_type": "markdown",
   "metadata": {},
   "source": [
    "## Reto 3\n",
    "\n",
    "A y B son eventos de una probabilidad tal que \\(P(A) = 0.3\\), \\(P(B) = 0.6\\) y \\(P(A \\cap B) = 0.1\\)\n",
    "\n",
    "¿Cuáles de las siguientes afirmaciones son verdaderas?\n",
    "**SUGERENCIA: dibuja un gran diagrama de Venn a tu lado**\n",
    "* \\(P(\\overline{A}) = 0.7\\)\n",
    "* \\(P(A \\cup B) = 0.6\\)\n",
    "* \\(P(A \\cap \\overline{B}) = 0.2\\)\n",
    "* \\(P(A \\cup \\overline{A}) = 1\\)  \n",
    "* \\(P(A \\cap (B \\cup \\overline{B})) = 0.4\\)\n",
    "* \\(P(\\overline{A} \\cap \\overline{B}) = 0.3\\)\n",
    "* \\(P(\\overline{A \\cap B}) = 0.9\\)"
   ]
  },
  {
   "cell_type": "code",
   "execution_count": 10,
   "metadata": {},
   "outputs": [
    {
     "name": "stdout",
     "output_type": "stream",
     "text": [
      "P(¬A) = 0.7\n",
      "P(A ∪ B) = 0.7999999999999999\n",
      "P(A ∩ ¬B) = 0.19999999999999998\n",
      "P(A ∪ ¬A) = 1\n",
      "P(A ∩ (B ∪ ¬B)) = 0.3\n",
      "P(¬A ∩ ¬B) = 0.20000000000000007\n",
      "P(¬(A ∩ B)) = 0.9\n"
     ]
    }
   ],
   "source": [
    "def verify_statements(P_A, P_B, P_A_and_B):\n",
    "    P_not_A = 1 - P_A\n",
    "    P_A_or_B = P_A + P_B - P_A_and_B\n",
    "    P_A_and_not_B = P_A - P_A_and_B\n",
    "    P_A_or_not_A = 1\n",
    "    P_A_and_B_or_not_B = P_A\n",
    "    P_not_A_and_not_B = 1 - P_A_or_B\n",
    "    P_not_A_and_B = 1 - P_A_and_B\n",
    "    \n",
    "    return {\n",
    "        \"P(¬A)\": P_not_A,\n",
    "        \"P(A ∪ B)\": P_A_or_B,\n",
    "        \"P(A ∩ ¬B)\": P_A_and_not_B,\n",
    "        \"P(A ∪ ¬A)\": P_A_or_not_A,\n",
    "        \"P(A ∩ (B ∪ ¬B))\": P_A_and_B_or_not_B,\n",
    "        \"P(¬A ∩ ¬B)\": P_not_A_and_not_B,\n",
    "        \"P(¬(A ∩ B))\": P_not_A_and_B\n",
    "    }\n",
    "\n",
    "P_A = 0.3\n",
    "P_B = 0.6\n",
    "P_A_and_B = 0.1\n",
    "\n",
    "results = verify_statements(P_A, P_B, P_A_and_B)\n",
    "for statement, result in results.items():\n",
    "    print(f\"{statement} = {result}\")"
   ]
  },
  {
   "cell_type": "markdown",
   "metadata": {},
   "source": [
    "## Reto 4\n",
    "\n",
    "* Si alguien viaja a China, la probabilidad de contraer Covid es del 1%\n",
    "* Si alguien viaja a Italia, la probabilidad de contraer Covid es del 20%\n",
    "\n",
    "Lanzo un dado con números 1, 2, 3, 4, 5, 6:\n",
    "* Si sale 1: Vuelo a Italia\n",
    "* Si no sale 1: Vuelo a China\n",
    "\n",
    "Durante mi viaje, contraje Covid. ¿Cuál es la probabilidad de que haya volado a China?"
   ]
  },
  {
   "cell_type": "code",
   "execution_count": 11,
   "metadata": {},
   "outputs": [
    {
     "name": "stdout",
     "output_type": "stream",
     "text": [
      "Probability of having flown to China given that I contracted Covid: 0.2\n"
     ]
    }
   ],
   "source": [
    "def probability_china_given_covid(P_Covid_China, P_China, P_Covid_Italy, P_Italy):\n",
    "    P_Covid = (P_Covid_China * P_China) + (P_Covid_Italy * P_Italy)\n",
    "    return (P_Covid_China * P_China) / P_Covid\n",
    "\n",
    "P_Covid_China = 0.01\n",
    "P_China = 5/6\n",
    "P_Covid_Italy = 0.2\n",
    "P_Italy = 1/6\n",
    "\n",
    "print(f\"Probability of having flown to China given that I contracted Covid: {probability_china_given_covid(P_Covid_China, P_China, P_Covid_Italy, P_Italy)}\")"
   ]
  },
  {
   "cell_type": "markdown",
   "metadata": {},
   "source": [
    "## BONUS\n",
    "\n",
    "Lanzas 2 dados. ¿Cuál es la probabilidad de que la suma de los números sea 7? ¿Y 8? ¿Y 9? Luego simula 10000 veces y dibuja un gráfico de conteo.\n",
    "\n",
    "tu explicación aquí"
   ]
  },
  {
   "cell_type": "code",
   "execution_count": 6,
   "metadata": {},
   "outputs": [
    {
     "data": {
      "image/png": "[encoded data removed]",
      "text/plain": [
       "<Figure size 640x480 with 1 Axes>"
      ]
     },
     "metadata": {},
     "output_type": "display_data"
    },
    {
     "name": "stdout",
     "output_type": "stream",
     "text": [
      "Probability of the sum being 7: 0.16666666666666666\n",
      "Probability of the sum being 8: 0.1388888888888889\n",
      "Probability of the sum being 9: 0.1111111111111111\n"
     ]
    }
   ],
   "source": [
    "# YOUR CODE HERE\n",
    "import numpy as np\n",
    "import matplotlib.pyplot as plt\n",
    "\n",
    "# Simulation\n",
    "n_simulations = 10000\n",
    "dice = np.random.randint(1, 7, size=(n_simulations, 2))\n",
    "sum_dice = dice.sum(axis=1)\n",
    "\n",
    "# Count\n",
    "sum_count = np.bincount(sum_dice)[2:]\n",
    "\n",
    "# Plot\n",
    "plt.bar(range(2, 13), sum_count)\n",
    "plt.xlabel('Sum of dice')\n",
    "plt.ylabel('Frequency')\n",
    "plt.title('Distribution of the sum of 2 dice in 10000 rolls')\n",
    "plt.show()\n",
    "\n",
    "# Exact probabilities for sums of 7, 8, and 9\n",
    "prob_sum_7 = 6 / 36\n",
    "prob_sum_8 = 5 / 36\n",
    "prob_sum_9 = 4 / 36\n",
    "print(f\"Probability of the sum being 7: {prob_sum_7}\")\n",
    "print(f\"Probability of the sum being 8: {prob_sum_8}\")\n",
    "print(f\"Probability of the sum being 9: {prob_sum_9}\")"
   ]
  },
  {
   "cell_type": "code",
   "execution_count": null,
   "metadata": {},
   "outputs": [],
   "source": []
  }
 ],
 "metadata": {
  "kernelspec": {
   "display_name": "Python 3 (ipykernel)",
   "language": "python",
   "name": "python3"
  },
  "language_info": {
   "codemirror_mode": {
    "name": "ipython",
    "version": 3
   },
   "file_extension": ".py",
   "mimetype": "text/x-python",
   "name": "python",
   "nbconvert_exporter": "python",
   "pygments_lexer": "ipython3",
   "version": "3.11.3"
  },
  "toc": {
   "base_numbering": 1,
   "nav_menu": {},
   "number_sections": false,
   "sideBar": true,
   "skip_h1_title": false,
   "title_cell": "Table of Contents",
   "title_sidebar": "Contents",
   "toc_cell": false,
   "toc_position": {
    "height": "calc(100% - 180px)",
    "left": "10px",
    "top": "150px",
    "width": "296.475px"
   },
   "toc_section_display": true,
   "toc_window_display": false
  },
  "varInspector": {
   "cols": {
    "lenName": 16,
    "lenType": 16,
    "lenVar": 40
   },
   "kernels_config": {
    "python": {
     "delete_cmd_postfix": "",
     "delete_cmd_prefix": "del ",
     "library": "var_list.py",
     "varRefreshCmd": "print(var_dic_list())"
    },
    "r": {
     "delete_cmd_postfix": ") ",
     "delete_cmd_prefix": "rm(",
     "library": "var_list.r",
     "varRefreshCmd": "cat(var_dic_list()) "
    }
   },
   "types_to_exclude": [
    "module",
    "function",
    "builtin_function_or_method",
    "instance",
    "_Feature"
   ],
   "window_display": false
  }
 },
 "nbformat": 4,
 "nbformat_minor": 2
}
